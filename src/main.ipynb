{
 "cells": [
  {
   "cell_type": "markdown",
   "id": "b10e8b5b-5c38-4519-9ba3-c690ab03c36f",
   "metadata": {},
   "source": [
    "# "
   ]
  },
  {
   "cell_type": "code",
   "execution_count": null,
   "id": "39fa5761",
   "metadata": {
    "vscode": {
     "languageId": "plaintext"
    }
   },
   "outputs": [
    {
     "name": "stdout",
     "output_type": "stream",
     "text": [
      "\u001b[?2004l\n",
      "\n",
      "\n",
      "\n",
      "\u001b[?2004h\n",
      "\u001b[?2004l\n",
      "\n",
      "\n",
      "\n",
      "\u001b[?2004h\n",
      "\u001b[?2004l\n",
      "\n",
      "\n",
      "\n",
      "\u001b[?2004h\n",
      "\u001b[?2004l\n",
      "b =\n",
      "\n",
      "   4\n",
      "   9\n",
      "   2\n",
      "\n",
      "\u001b[?2004h\u001b[?2004l\n",
      "\u001b[?2004h\u001b[?2004l\n",
      "\u001b[?2004h\u001b[?2004l\n",
      "A =\n",
      "\n",
      "   3   4   5\n",
      "   1   3   1\n",
      "   3   5   9\n",
      "\n",
      "\u001b[?2004h"
     ]
    }
   ],
   "source": [
    "b = [4; 9; 2]\n",
    "A = [ 3 4 5;\n",
    "      1 3 1;\n",
    "      3 5 9 ]"
   ]
  },
  {
   "cell_type": "code",
   "execution_count": null,
   "id": "b656a897",
   "metadata": {
    "vscode": {
     "languageId": "plaintext"
    }
   },
   "outputs": [
    {
     "name": "stdout",
     "output_type": "stream",
     "text": [
      "\u001b[?2004l\n",
      "x =\n",
      "\n",
      "  -1.5000\n",
      "   4.0000\n",
      "  -1.5000\n",
      "\n",
      "\u001b[?2004h"
     ]
    }
   ],
   "source": [
    "x = A \\ b"
   ]
  }
 ],
 "metadata": {
  "kernelspec": {
   "display_name": "Octave",
   "language": "octave",
   "name": "octave"
  },
  "language_info": {
   "file_extension": ".m",
   "help_links": [
    {
     "text": "GNU Octave",
     "url": "https://www.gnu.org/software/octave/support.html"
    },
    {
     "text": "Octave Kernel",
     "url": "https://github.com/Calysto/octave_kernel"
    },
    {
     "text": "MetaKernel Magics",
     "url": "https://metakernel.readthedocs.io/en/latest/source/README.html"
    }
   ],
   "mimetype": "text/x-octave",
   "name": "octave",
   "version": "8.4.0"
  }
 },
 "nbformat": 4,
 "nbformat_minor": 5
}
